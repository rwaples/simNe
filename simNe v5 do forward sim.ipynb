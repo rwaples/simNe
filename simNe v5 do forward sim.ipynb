{
 "cells": [
  {
   "cell_type": "markdown",
   "metadata": {},
   "source": [
    "# TODO\n",
    "    - address Ne = 50    \n",
    "    - break out the fuctions into a separate file.\n",
    "    - incorporate seeds into the two simulation steps as well as the sampling steps.\n",
    "    - batch simulation steps \n",
    "    - figure out ancestral ne, and what scaling the mutation rate means in practice\n",
    "    - figure out how to simulate unlinked loci (just run msprime many, many times??)\n",
    "    - check the controlled mating is doing the expected\n",
    "    - batch the analysis\n"
   ]
  },
  {
   "cell_type": "code",
   "execution_count": 3,
   "metadata": {},
   "outputs": [
    {
     "data": {
      "text/html": [
       "<style>.container { width:90% !important; }</style>"
      ],
      "text/plain": [
       "<IPython.core.display.HTML object>"
      ]
     },
     "metadata": {},
     "output_type": "display_data"
    }
   ],
   "source": [
    "import numpy as np\n",
    "import pandas as pd\n",
    "import itertools\n",
    "#import scipy.spatial.distance\n",
    "#import matplotlib.pyplot as plt\n",
    "#import seaborn as sns\n",
    "import collections\n",
    "import glob\n",
    "import random\n",
    "from random import shuffle\n",
    "import os.path\n",
    "\n",
    "import msprime\n",
    "#import allel\n",
    "\n",
    "#import simuPOP\n",
    "#import simuPOP.utils\n",
    "\n",
    "from pylab import rcParams\n",
    "from IPython.core.display import display, HTML\n",
    "display(HTML(\"<style>.container { width:90% !important; }</style>\"))\n",
    "%matplotlib inline\n",
    "#sns.set_style('white')"
   ]
  },
  {
   "cell_type": "code",
   "execution_count": 7,
   "metadata": {},
   "outputs": [
    {
     "name": "stdout",
     "output_type": "stream",
     "text": [
      "[NbConvertApp] Converting notebook simNe_functions_simulate.ipynb to script\n",
      "[NbConvertApp] Writing 14168 bytes to simNe_functions_simulate.py\n",
      "simuPOP Version 1.1.7.1 : Copyright (c) 2004-2016 Bo Peng\n",
      "Revision 5003 (Oct 17 2017) for Python 2.7.13 (64bit, 1thread)\n",
      "Random Number Generator is set to mt19937 with random seed 0xa20f2d5453e55ba6.\n",
      "This is the standard short allele version with 256 maximum allelic states.\n",
      "For more information, please visit http://simupop.sourceforge.net,\n",
      "or email simupop-list@lists.sourceforge.net (subscription required).\n"
     ]
    },
    {
     "data": {
      "text/html": [
       "<style>.container { width:90% !important; }</style>"
      ],
      "text/plain": [
       "<IPython.core.display.HTML object>"
      ]
     },
     "metadata": {},
     "output_type": "display_data"
    }
   ],
   "source": [
    "!jupyter nbconvert --to script simNe_functions_simulate.ipynb\n",
    "import simNe_functions_simulate as simNe_sim"
   ]
  },
  {
   "cell_type": "code",
   "execution_count": 8,
   "metadata": {
    "scrolled": true
   },
   "outputs": [
    {
     "name": "stdout",
     "output_type": "stream",
     "text": [
      "[NbConvertApp] Converting notebook simNe_functions_analyze.ipynb to script\n",
      "[NbConvertApp] Writing 17393 bytes to simNe_functions_analyze.py\n"
     ]
    },
    {
     "data": {
      "text/html": [
       "<style>.container { width:90% !important; }</style>"
      ],
      "text/plain": [
       "<IPython.core.display.HTML object>"
      ]
     },
     "metadata": {},
     "output_type": "display_data"
    }
   ],
   "source": [
    "!jupyter nbconvert --to script simNe_functions_analyze.ipynb\n",
    "import simNe_functions_analyze as simNe_anal"
   ]
  },
  {
   "cell_type": "markdown",
   "metadata": {},
   "source": [
    "# Start"
   ]
  },
  {
   "cell_type": "code",
   "execution_count": 4,
   "metadata": {
    "collapsed": true
   },
   "outputs": [],
   "source": [
    "batchname = 'oct17a'"
   ]
  },
  {
   "cell_type": "code",
   "execution_count": 5,
   "metadata": {},
   "outputs": [
    {
     "data": {
      "text/plain": [
       "['./share/oct17a/Ne-200_Chr-4',\n",
       " './share/oct17a/Ne-50_Chr-4',\n",
       " './share/oct17a/Ne-800_Chr-4',\n",
       " './share/oct17a/Ne-3200_Chr-4',\n",
       " './share/oct17a/Ne-50_Chr-16',\n",
       " './share/oct17a/Ne-200_Chr-16',\n",
       " './share/oct17a/Ne-800_Chr-16',\n",
       " './share/oct17a/Ne-3200_Chr-16',\n",
       " './share/oct17a/Ne-50_Chr-64',\n",
       " './share/oct17a/Ne-200_Chr-64',\n",
       " './share/oct17a/Ne-800_Chr-64',\n",
       " './share/oct17a/Ne-3200_Chr-64']"
      ]
     },
     "execution_count": 5,
     "metadata": {},
     "output_type": "execute_result"
    }
   ],
   "source": [
    "glob.glob('./share/{}/*'.format(batchname))"
   ]
  },
  {
   "cell_type": "code",
   "execution_count": 6,
   "metadata": {},
   "outputs": [
    {
     "data": {
      "text/plain": [
       "{'Ne_ancestral': '2000',\n",
       " 'Ne_switchdate': '100',\n",
       " 'batchname': 'oct17a',\n",
       " 'chrom_len': '50000000.0',\n",
       " 'coalescent_seed': '1001',\n",
       " 'diploid_Ne': '200',\n",
       " 'forward_seed': '1001',\n",
       " 'mutation_rate': '1e-08',\n",
       " 'n_chrom': '4',\n",
       " 'repilcates': '500'}"
      ]
     },
     "execution_count": 6,
     "metadata": {},
     "output_type": "execute_result"
    }
   ],
   "source": [
    "target_dir = glob.glob('./share/{}/*'.format(batchname))[0]\n",
    "params = pd.read_csv(os.path.join(target_dir,'params.txt'), header = None, sep = '\\t')\n",
    "params.columns = ['param', 'value']\n",
    "params['param'] = params['param'].str.replace(' ', '')\n",
    "params['value'] = params['value'].str.replace(' ', '')\n",
    "dict(zip(params['param'], params['value']))"
   ]
  },
  {
   "cell_type": "code",
   "execution_count": 9,
   "metadata": {},
   "outputs": [
    {
     "name": "stdout",
     "output_type": "stream",
     "text": [
      "working on dir: ./share/oct17a/Ne-200_Chr-4\n",
      "successfuly loaded file: ./share/oct17a/Ne-200_Chr-4/coalescent.hdf5\n",
      "34168\n",
      "22000\n",
      "{'batchname': 'oct17a', 'coalescent_seed': '1001', 'forward_seed': '1001', 'Ne_switchdate': '100', 'mutation_rate': '1e-08', 'chrom_len': '50000000.0', 'diploid_Ne': '200', 'repilcates': '500', 'n_chrom': '4', 'Ne_ancestral': '2000'}\n",
      "skipping forward simulations, already done\n",
      "working on dir: ./share/oct17a/Ne-50_Chr-4\n",
      "successfuly loaded file: ./share/oct17a/Ne-50_Chr-4/coalescent.hdf5\n",
      "23407\n",
      "22000\n",
      "{'batchname': 'oct17a', 'coalescent_seed': '1001', 'forward_seed': '1001', 'Ne_switchdate': '100', 'mutation_rate': '1e-08', 'chrom_len': '50000000.0', 'diploid_Ne': '50', 'repilcates': '500', 'n_chrom': '4', 'Ne_ancestral': '2000'}\n",
      "running forward simulations\n",
      "start getting chromosomes positions\n",
      "done getting chromosomes positions\n",
      "Exporting....1....2....3....4....5....6....7....8....9.... Done.\n",
      "Exporting....1....2....3....4....5....6....7....8....9.... Done.\n",
      "initalizing the forward simulator\n",
      "Start evolving 500 replicates\n",
      "Done evolving 500 replicates!\n",
      "Exporting data!\n",
      "saved rep 0\n",
      "saved rep 10\n",
      "saved rep 20\n",
      "saved rep 30\n",
      "saved rep 40\n",
      "saved rep 50\n",
      "saved rep 60\n",
      "saved rep 70\n",
      "saved rep 80\n",
      "saved rep 90\n",
      "saved rep 100\n",
      "saved rep 110\n",
      "saved rep 120\n",
      "saved rep 130\n",
      "saved rep 140\n",
      "saved rep 150\n",
      "saved rep 160\n",
      "saved rep 170\n",
      "saved rep 180\n",
      "saved rep 190\n",
      "saved rep 200\n",
      "saved rep 210\n",
      "saved rep 220\n",
      "saved rep 230\n",
      "saved rep 240\n",
      "saved rep 250\n",
      "saved rep 260\n",
      "saved rep 270\n",
      "saved rep 280\n",
      "saved rep 290\n",
      "saved rep 300\n",
      "saved rep 310\n",
      "saved rep 320\n",
      "saved rep 330\n",
      "saved rep 340\n",
      "saved rep 350\n",
      "saved rep 360\n",
      "saved rep 370\n",
      "saved rep 380\n",
      "saved rep 390\n",
      "saved rep 400\n",
      "saved rep 410\n",
      "saved rep 420\n",
      "saved rep 430\n",
      "saved rep 440\n",
      "saved rep 450\n",
      "saved rep 460\n",
      "saved rep 470\n",
      "saved rep 480\n",
      "saved rep 490\n",
      "working on dir: ./share/oct17a/Ne-800_Chr-4\n",
      "successfuly loaded file: ./share/oct17a/Ne-800_Chr-4/coalescent.hdf5\n",
      "35037\n",
      "22000\n",
      "{'batchname': 'oct17a', 'coalescent_seed': '1001', 'forward_seed': '1001', 'Ne_switchdate': '100', 'mutation_rate': '1e-08', 'chrom_len': '50000000.0', 'diploid_Ne': '800', 'repilcates': '500', 'n_chrom': '4', 'Ne_ancestral': '2000'}\n",
      "skipping forward simulations, already done\n",
      "working on dir: ./share/oct17a/Ne-3200_Chr-4\n",
      "successfuly loaded file: ./share/oct17a/Ne-3200_Chr-4/coalescent.hdf5\n",
      "35024\n",
      "22000\n",
      "{'batchname': 'oct17a', 'coalescent_seed': '1001', 'forward_seed': '1001', 'Ne_switchdate': '100', 'mutation_rate': '1e-08', 'chrom_len': '50000000.0', 'diploid_Ne': '3200', 'repilcates': '500', 'n_chrom': '4', 'Ne_ancestral': '2000'}\n",
      "skipping forward simulations, already done\n",
      "working on dir: ./share/oct17a/Ne-50_Chr-16\n",
      "successfuly loaded file: ./share/oct17a/Ne-50_Chr-16/coalescent.hdf5\n",
      "100220\n",
      "22000\n",
      "{'batchname': 'oct17a', 'coalescent_seed': '1001', 'forward_seed': '1001', 'Ne_switchdate': '100', 'mutation_rate': '1e-08', 'chrom_len': '50000000.0', 'diploid_Ne': '50', 'repilcates': '500', 'n_chrom': '16', 'Ne_ancestral': '2000'}\n",
      "running forward simulations\n",
      "start getting chromosomes positions\n",
      "done getting chromosomes positions\n",
      "Exporting....1....2....3....4....5....6....7....8....9.... Done.\n",
      "Exporting....1....2....3....4....5....6....7....8....9.... Done.\n",
      "initalizing the forward simulator\n",
      "Start evolving 500 replicates\n",
      "Done evolving 500 replicates!\n",
      "Exporting data!\n",
      "saved rep 0\n",
      "saved rep 10\n",
      "saved rep 20\n",
      "saved rep 30\n",
      "saved rep 40\n",
      "saved rep 50\n",
      "saved rep 60\n",
      "saved rep 70\n",
      "saved rep 80\n",
      "saved rep 90\n",
      "saved rep 100\n",
      "saved rep 110\n",
      "saved rep 120\n",
      "saved rep 130\n",
      "saved rep 140\n",
      "saved rep 150\n",
      "saved rep 160\n",
      "saved rep 170\n",
      "saved rep 180\n",
      "saved rep 190\n",
      "saved rep 200\n",
      "saved rep 210\n",
      "saved rep 220\n",
      "saved rep 230\n",
      "saved rep 240\n",
      "saved rep 250\n",
      "saved rep 260\n",
      "saved rep 270\n",
      "saved rep 280\n",
      "saved rep 290\n",
      "saved rep 300\n",
      "saved rep 310\n",
      "saved rep 320\n",
      "saved rep 330\n",
      "saved rep 340\n",
      "saved rep 350\n",
      "saved rep 360\n",
      "saved rep 370\n",
      "saved rep 380\n",
      "saved rep 390\n",
      "saved rep 400\n",
      "saved rep 410\n",
      "saved rep 420\n",
      "saved rep 430\n",
      "saved rep 440\n",
      "saved rep 450\n",
      "saved rep 460\n",
      "saved rep 470\n",
      "saved rep 480\n",
      "saved rep 490\n",
      "working on dir: ./share/oct17a/Ne-200_Chr-16\n",
      "successfuly loaded file: ./share/oct17a/Ne-200_Chr-16/coalescent.hdf5\n",
      "137326\n",
      "22000\n",
      "{'batchname': 'oct17a', 'coalescent_seed': '1001', 'forward_seed': '1001', 'Ne_switchdate': '100', 'mutation_rate': '1e-08', 'chrom_len': '50000000.0', 'diploid_Ne': '200', 'repilcates': '500', 'n_chrom': '16', 'Ne_ancestral': '2000'}\n",
      "skipping forward simulations, already done\n",
      "working on dir: ./share/oct17a/Ne-800_Chr-16\n",
      "successfuly loaded file: ./share/oct17a/Ne-800_Chr-16/coalescent.hdf5\n",
      "141445\n",
      "22000\n",
      "{'batchname': 'oct17a', 'coalescent_seed': '1001', 'forward_seed': '1001', 'Ne_switchdate': '100', 'mutation_rate': '1e-08', 'chrom_len': '50000000.0', 'diploid_Ne': '800', 'repilcates': '500', 'n_chrom': '16', 'Ne_ancestral': '2000'}\n",
      "skipping forward simulations, already done\n",
      "working on dir: ./share/oct17a/Ne-3200_Chr-16\n",
      "successfuly loaded file: ./share/oct17a/Ne-3200_Chr-16/coalescent.hdf5\n",
      "140773\n",
      "22000\n",
      "{'batchname': 'oct17a', 'coalescent_seed': '1001', 'forward_seed': '1001', 'Ne_switchdate': '100', 'mutation_rate': '1e-08', 'chrom_len': '50000000.0', 'diploid_Ne': '3200', 'repilcates': '500', 'n_chrom': '16', 'Ne_ancestral': '2000'}\n",
      "skipping forward simulations, already done\n",
      "working on dir: ./share/oct17a/Ne-50_Chr-64\n",
      "successfuly loaded file: ./share/oct17a/Ne-50_Chr-64/coalescent.hdf5\n",
      "384447\n",
      "22000\n",
      "{'batchname': 'oct17a', 'coalescent_seed': '1001', 'forward_seed': '1001', 'Ne_switchdate': '100', 'mutation_rate': '1e-08', 'chrom_len': '50000000.0', 'diploid_Ne': '50', 'repilcates': '500', 'n_chrom': '64', 'Ne_ancestral': '2000'}\n",
      "running forward simulations\n",
      "start getting chromosomes positions\n",
      "done getting chromosomes positions\n",
      "Exporting....1....2....3....4....5....6....7....8....9.... Done.\n",
      "Exporting....1....2....3....4....5....6....7....8....9.... Done.\n",
      "initalizing the forward simulator\n",
      "Start evolving 500 replicates\n",
      "Done evolving 500 replicates!\n",
      "Exporting data!\n",
      "saved rep 0\n",
      "saved rep 10\n",
      "saved rep 20\n",
      "saved rep 30\n",
      "saved rep 40\n",
      "saved rep 50\n",
      "saved rep 60\n",
      "saved rep 70\n",
      "saved rep 80\n",
      "saved rep 90\n",
      "saved rep 100\n",
      "saved rep 110\n",
      "saved rep 120\n",
      "saved rep 130\n",
      "saved rep 140\n",
      "saved rep 150\n",
      "saved rep 160\n",
      "saved rep 170\n",
      "saved rep 180\n",
      "saved rep 190\n",
      "saved rep 200\n",
      "saved rep 210\n",
      "saved rep 220\n",
      "saved rep 230\n",
      "saved rep 240\n",
      "saved rep 250\n",
      "saved rep 260\n",
      "saved rep 270\n",
      "saved rep 280\n",
      "saved rep 290\n",
      "saved rep 300\n",
      "saved rep 310\n",
      "saved rep 320\n",
      "saved rep 330\n",
      "saved rep 340\n",
      "saved rep 350\n",
      "saved rep 360\n",
      "saved rep 370\n",
      "saved rep 380\n",
      "saved rep 390\n",
      "saved rep 400\n",
      "saved rep 410\n",
      "saved rep 420\n",
      "saved rep 430\n",
      "saved rep 440\n",
      "saved rep 450\n",
      "saved rep 460\n",
      "saved rep 470\n",
      "saved rep 480\n",
      "saved rep 490\n",
      "working on dir: ./share/oct17a/Ne-200_Chr-64\n",
      "successfuly loaded file: ./share/oct17a/Ne-200_Chr-64/coalescent.hdf5\n",
      "545963\n",
      "22000\n",
      "{'batchname': 'oct17a', 'coalescent_seed': '1001', 'forward_seed': '1001', 'Ne_switchdate': '100', 'mutation_rate': '1e-08', 'chrom_len': '50000000.0', 'diploid_Ne': '200', 'repilcates': '500', 'n_chrom': '64', 'Ne_ancestral': '2000'}\n",
      "skipping forward simulations, already done\n",
      "working on dir: ./share/oct17a/Ne-800_Chr-64\n",
      "successfuly loaded file: ./share/oct17a/Ne-800_Chr-64/coalescent.hdf5\n",
      "564597\n",
      "22000\n",
      "{'batchname': 'oct17a', 'coalescent_seed': '1001', 'forward_seed': '1001', 'Ne_switchdate': '100', 'mutation_rate': '1e-08', 'chrom_len': '50000000.0', 'diploid_Ne': '800', 'repilcates': '500', 'n_chrom': '64', 'Ne_ancestral': '2000'}\n",
      "skipping forward simulations, already done\n",
      "working on dir: ./share/oct17a/Ne-3200_Chr-64\n",
      "successfuly loaded file: ./share/oct17a/Ne-3200_Chr-64/coalescent.hdf5\n",
      "564029\n",
      "22000\n",
      "{'batchname': 'oct17a', 'coalescent_seed': '1001', 'forward_seed': '1001', 'Ne_switchdate': '100', 'mutation_rate': '1e-08', 'chrom_len': '50000000.0', 'diploid_Ne': '3200', 'repilcates': '500', 'n_chrom': '64', 'Ne_ancestral': '2000'}\n",
      "skipping forward simulations, already done\n"
     ]
    }
   ],
   "source": [
    "for target_dir in glob.glob('./share/{}/*'.format(batchname)):\n",
    "    print('working on dir: {}'.format(target_dir) )\n",
    "    coal_file = os.path.join(target_dir,'coalescent.hdf5')\n",
    "    if os.path.isfile(coal_file):\n",
    "        coal = msprime.load(coal_file)\n",
    "        print('successfuly loaded file: {}'.format(coal_file))\n",
    "        coal = simNe_sim.filter_allele_freq(coal, MAF = 0.1)\n",
    "        coal = simNe_sim.downsample_sim_data(coal, max_loci = 22000)\n",
    "        # Load the params file (format will change next time):\n",
    "        params = pd.read_csv(os.path.join(target_dir,'params.txt'), header = None, sep = '\\t')\n",
    "        params.columns = ['param', 'value']\n",
    "        params['param'] = params['param'].str.replace(' ', '')\n",
    "        params['value'] = params['value'].str.replace(' ', '')\n",
    "        val_of_param = dict(zip(params['param'], params['value']))\n",
    "        print val_of_param\n",
    "        # exclude Ne == 50 for now\n",
    "        #if np.int(val_of_param['diploid_Ne']) > 50:\n",
    "        if len(glob.glob(os.path.join(target_dir,'*.geno'))) < np.int(val_of_param['repilcates']):\n",
    "                print ('running forward simulations')      \n",
    "                simNe_sim.do_forward_sims(sim_data = coal, \n",
    "                    chrom_len = np.float(val_of_param['chrom_len']), \n",
    "                    diploid_Ne = np.int(val_of_param['diploid_Ne']),\n",
    "                    batchname = val_of_param['batchname'],\n",
    "                    repilcates = np.int(val_of_param['repilcates']),\n",
    "                    simupop_seed = np.int(val_of_param['forward_seed']))\n",
    "        else:\n",
    "            print ('skipping forward simulations, already done')      \n",
    "    else:\n",
    "        print('file {} not found, skipping'.format(coal_file))"
   ]
  },
  {
   "cell_type": "code",
   "execution_count": null,
   "metadata": {
    "collapsed": true
   },
   "outputs": [],
   "source": [
    "assert False"
   ]
  },
  {
   "cell_type": "code",
   "execution_count": null,
   "metadata": {
    "collapsed": true
   },
   "outputs": [],
   "source": []
  },
  {
   "cell_type": "code",
   "execution_count": null,
   "metadata": {
    "collapsed": true
   },
   "outputs": [],
   "source": []
  },
  {
   "cell_type": "code",
   "execution_count": null,
   "metadata": {
    "collapsed": true
   },
   "outputs": [],
   "source": [
    "for target_dir in ['./share/mar14a/Ne-800_Chr-4']:\n",
    "    print('working on dir: {}'.format(target_dir) )\n",
    "    coal_file = os.path.join(target_dir,'coalescent.hdf5')\n",
    "    if os.path.isfile(coal_file):\n",
    "        coal = msprime.load(coal_file)\n",
    "        print('successfuly loaded file: {}'.format(coal_file))\n",
    "        simNe_sim.filter_allele_freq(coal, min_freq = .2, max_freq = .8)\n",
    "        simNe_sim.downsample_sim_data(coal, max_loci = 22000)\n",
    "        \n",
    "        # Load the params file (format will change next time):\n",
    "        params = pd.read_csv(os.path.join(target_dir,'params.txt'), header = None, sep = '\\t')\n",
    "        params.columns = ['param', 'value']\n",
    "        params['param'] = params['param'].str.replace(' ', '')\n",
    "        params['value'] = params['value'].str.replace(' ', '')\n",
    "        val_of_param = dict(zip(params['param'], params['value']))\n",
    "        if len(glob.glob(os.path.join(target_dir,'*.geno'))) < np.int(val_of_param['repilcates']):\n",
    "            print ('running forward simulations')      \n",
    "            simNe_sim.do_forward_sims(sim_data = coal, \n",
    "                chrom_len = np.float(val_of_param['chrom_len']), \n",
    "                diploid_Ne = np.int(val_of_param['diploid_Ne']),\n",
    "                batchname = val_of_param['batchname'],\n",
    "                repilcates = np.int(val_of_param['repilcates']),\n",
    "                simupop_seed = np.int(val_of_param['forward_seed']))\n",
    "        else:\n",
    "            print ('skipping forward simulations, already done')      \n",
    "    else:\n",
    "        print('file {} not found, skipping'.format(coal_file))"
   ]
  },
  {
   "cell_type": "code",
   "execution_count": null,
   "metadata": {
    "collapsed": true
   },
   "outputs": [],
   "source": []
  },
  {
   "cell_type": "code",
   "execution_count": null,
   "metadata": {
    "collapsed": true
   },
   "outputs": [],
   "source": [
    "pass"
   ]
  },
  {
   "cell_type": "code",
   "execution_count": null,
   "metadata": {
    "collapsed": true
   },
   "outputs": [],
   "source": [
    "assert False"
   ]
  },
  {
   "cell_type": "code",
   "execution_count": null,
   "metadata": {
    "collapsed": true
   },
   "outputs": [],
   "source": []
  },
  {
   "cell_type": "code",
   "execution_count": null,
   "metadata": {
    "collapsed": true
   },
   "outputs": [],
   "source": [
    "        simNe_sim.do_forward_sims(sim_data = coal, \n",
    "            chrom_len = chrom_len, \n",
    "            diploid_Ne = diploid_Ne, \n",
    "            batchname = batchname,\n",
    "            repilcates = repilcates,\n",
    "            simupop_seed = forward_seed)"
   ]
  },
  {
   "cell_type": "code",
   "execution_count": null,
   "metadata": {
    "collapsed": true
   },
   "outputs": [],
   "source": [
    "# filter for freqs\n",
    "        simNe_sim.filter_allele_freq(sim_data, min_freq = .2, max_freq = .8)\n",
    "        simNe_sim.downsample_sim_data(sim_data, max_loci = 22000)"
   ]
  },
  {
   "cell_type": "code",
   "execution_count": null,
   "metadata": {
    "collapsed": true
   },
   "outputs": [],
   "source": [
    "sim_data"
   ]
  },
  {
   "cell_type": "code",
   "execution_count": null,
   "metadata": {
    "collapsed": true
   },
   "outputs": [],
   "source": [
    "import msprime\n",
    "tt  = msprime.load('./share/mar14a/Ne-800_Chr-4/coalescent.hdf5')\n",
    "tt"
   ]
  },
  {
   "cell_type": "code",
   "execution_count": null,
   "metadata": {
    "collapsed": true
   },
   "outputs": [],
   "source": [
    "        # do forward simualtion\n",
    "        simNe_sim.do_forward_sims(sim_data = sim_data, \n",
    "            chrom_len = chrom_len, \n",
    "            diploid_Ne = diploid_Ne, \n",
    "            batchname = batchname,\n",
    "            repilcates = repilcates,\n",
    "            simupop_seed = forward_seed)"
   ]
  },
  {
   "cell_type": "code",
   "execution_count": null,
   "metadata": {
    "collapsed": true
   },
   "outputs": [],
   "source": [
    "pass"
   ]
  },
  {
   "cell_type": "markdown",
   "metadata": {},
   "source": [
    "# Generate results.txt "
   ]
  },
  {
   "cell_type": "code",
   "execution_count": null,
   "metadata": {
    "collapsed": true,
    "scrolled": false
   },
   "outputs": [],
   "source": [
    "for n_chrom in [4, 16]:\n",
    "    for diploid_Ne in [200, 800, 3200]:\n",
    "        try:\n",
    "            simNe_anal.do_analysis(target_dir='./share/{}/Ne-{}_Chr-{}'.format(batchname, diploid_Ne, n_chrom), \n",
    "                               MAF = 0.1, \n",
    "                               L = [16, 64, 256, 1024], \n",
    "                               S = [50, 100])\n",
    "        except:\n",
    "            pass"
   ]
  },
  {
   "cell_type": "code",
   "execution_count": null,
   "metadata": {
    "collapsed": true
   },
   "outputs": [],
   "source": [
    "# Gather results\n",
    "target_dir='./share/{}/Ne-{}_Chr-{}'.format(batchname, diploid_Ne, n_chrom)"
   ]
  },
  {
   "cell_type": "code",
   "execution_count": null,
   "metadata": {
    "collapsed": true
   },
   "outputs": [],
   "source": []
  },
  {
   "cell_type": "code",
   "execution_count": null,
   "metadata": {
    "collapsed": true
   },
   "outputs": [],
   "source": []
  }
 ],
 "metadata": {
  "anaconda-cloud": {},
  "kernelspec": {
   "display_name": "Python 2",
   "language": "python",
   "name": "python2"
  },
  "language_info": {
   "codemirror_mode": {
    "name": "ipython",
    "version": 2
   },
   "file_extension": ".py",
   "mimetype": "text/x-python",
   "name": "python",
   "nbconvert_exporter": "python",
   "pygments_lexer": "ipython2",
   "version": "2.7.15"
  }
 },
 "nbformat": 4,
 "nbformat_minor": 1
}

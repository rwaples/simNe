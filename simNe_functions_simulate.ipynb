{
 "cells": [
  {
   "cell_type": "code",
   "execution_count": 44,
   "metadata": {
    "collapsed": true
   },
   "outputs": [],
   "source": [
    "#from pyplink import PyPlink\n",
    "import numpy as np\n",
    "import pandas as pd\n",
    "import itertools\n",
    "import scipy.spatial.distance\n",
    "import matplotlib.pyplot as plt\n",
    "import seaborn as sns\n",
    "import collections\n",
    "import glob\n",
    "import random\n",
    "from random import shuffle\n",
    "import os.path"
   ]
  },
  {
   "cell_type": "code",
   "execution_count": 45,
   "metadata": {
    "collapsed": true
   },
   "outputs": [],
   "source": [
    "import msprime\n",
    "import allel"
   ]
  },
  {
   "cell_type": "code",
   "execution_count": 46,
   "metadata": {
    "collapsed": true
   },
   "outputs": [],
   "source": [
    "import simuPOP\n",
    "import simuPOP.utils"
   ]
  },
  {
   "cell_type": "code",
   "execution_count": 47,
   "metadata": {},
   "outputs": [
    {
     "data": {
      "text/html": [
       "<style>.container { width:90% !important; }</style>"
      ],
      "text/plain": [
       "<IPython.core.display.HTML object>"
      ]
     },
     "metadata": {},
     "output_type": "display_data"
    }
   ],
   "source": [
    "from pylab import rcParams\n",
    "from IPython.core.display import display, HTML\n",
    "display(HTML(\"<style>.container { width:90% !important; }</style>\"))"
   ]
  },
  {
   "cell_type": "code",
   "execution_count": 48,
   "metadata": {
    "collapsed": true
   },
   "outputs": [],
   "source": [
    "def make_rec_map(n_chrom, len_chrom, recombination_rate):\n",
    "    n_chrom = int(n_chrom)\n",
    "    len_chrom = int(len_chrom)\n",
    "    A = [[x, x+1] for x in range(int(len_chrom), int(len_chrom)*(n_chrom+1), int(len_chrom))]\n",
    "    rm_pos = [0] + list(itertools.chain.from_iterable(A))\n",
    "    B = [recombination_rate, 0.5] * n_chrom\n",
    "    rec_rates = B + [0]\n",
    "    rec_map = msprime.RecombinationMap(rm_pos, rec_rates)\n",
    "    return(rec_map)"
   ]
  },
  {
   "cell_type": "code",
   "execution_count": null,
   "metadata": {
    "collapsed": true
   },
   "outputs": [],
   "source": []
  },
  {
   "cell_type": "code",
   "execution_count": 67,
   "metadata": {
    "collapsed": true
   },
   "outputs": [],
   "source": [
    "def sim_chrom(\n",
    "    n_chrom,\n",
    "    chrom_len,\n",
    "    recombination_rate,\n",
    "    mutation_rate,\n",
    "    sample_size,\n",
    "    Ne_ancestral,\n",
    "    Ne_recent,\n",
    "    Ne_switchdate,\n",
    "    print_history = False):\n",
    "\n",
    "    #recombination map\n",
    "    rec_map = make_rec_map(n_chrom, chrom_len, recombination_rate)\n",
    "    \n",
    "    #population_configurations = [\n",
    "    #    msprime.PopulationConfiguration(\n",
    "    #        sample_size=sample_size, initial_size=Ne_recent)\n",
    "    #]\n",
    "    demographic_events = [\n",
    "        msprime.PopulationParametersChange(\n",
    "            time=Ne_switchdate, initial_size=Ne_ancestral, population_id=0)\n",
    "    ]\n",
    "    # Use the demography debugger to print out the demographic history\n",
    "    # that we have just described.\n",
    "    #dp = msprime.DemographyDebugger(\n",
    "    #    Ne=Ne_recent,\n",
    "    #    population_configurations=population_configurations,\n",
    "    #    demographic_events=demographic_events)\n",
    "    #if print_history:\n",
    "    #    dp.print_history()\n",
    "    #   return None\n",
    "    #else:\n",
    "    tree_sequence = msprime.simulate(\n",
    "                sample_size = sample_size, \n",
    "                Ne = Ne_recent,\n",
    "                recombination_map = rec_map,\n",
    "                mutation_rate=mutation_rate,\n",
    "                #population_configurations = population_configurations,\n",
    "                demographic_events = demographic_events,\n",
    "                #random_seed = random_seed\n",
    "                            )\n",
    "    shape = tree_sequence.get_num_mutations(), tree_sequence.get_sample_size()\n",
    "    print 'num_mutations: {}, samples: {}'.format(*shape)\n",
    "    return(tree_sequence)"
   ]
  },
  {
   "cell_type": "code",
   "execution_count": null,
   "metadata": {
    "collapsed": true
   },
   "outputs": [],
   "source": []
  },
  {
   "cell_type": "markdown",
   "metadata": {},
   "source": [
    "n_chrom = 6\n",
    "chrom_len = 1e5\n",
    "mutation_rate = 1e-8\n",
    "recombination_rate = 1e-8\n",
    "sample_size = 20\n",
    "Ne_recent = 1000\n",
    "Ne_ancestral = 1000\n",
    "Ne_switchdate = 100\n",
    "\n",
    "rec_map = make_rec_map(n_chrom, chrom_len, recombination_rate)\n",
    "    \n",
    "population_configurations = [\n",
    "        msprime.PopulationConfiguration(\n",
    "            sample_size=sample_size, initial_size=Ne_recent)]\n",
    "\n",
    "demographic_events = [\n",
    "        msprime.PopulationParametersChange(\n",
    "            time=Ne_switchdate, initial_size=Ne_ancestral, population_id=0)]"
   ]
  },
  {
   "cell_type": "markdown",
   "metadata": {},
   "source": [
    "msprime.simulate(\n",
    "                    recombination_map = rec_map,\n",
    "                    mutation_rate=mutation_rate,\n",
    "                    population_configurations = population_configurations,\n",
    "                    demographic_events = demographic_events,\n",
    "                                )\n"
   ]
  },
  {
   "cell_type": "markdown",
   "metadata": {},
   "source": [
    "# Filter for allele freqeuncy"
   ]
  },
  {
   "cell_type": "code",
   "execution_count": null,
   "metadata": {
    "collapsed": true
   },
   "outputs": [],
   "source": [
    "def filter_allele_freq(sim_data, MAF):\n",
    "    assert(MAF <= .5)\n",
    "    low = MAF\n",
    "    high = 1.0 - MAF\n",
    "    keep = []\n",
    "    for tree in sim_data.trees():\n",
    "            for site in tree.sites():\n",
    "                mutation = site.mutations[0] # assume just one\n",
    "                p = tree.get_num_leaves(mutation.node) / np.float(tree.get_sample_size()) # frequency\n",
    "                if p >= low and p <= high:\n",
    "                    keep.append(site)\n",
    "    print len(keep)\n",
    "    return(sim_data.copy(keep))"
   ]
  },
  {
   "cell_type": "code",
   "execution_count": 68,
   "metadata": {
    "collapsed": true
   },
   "outputs": [],
   "source": [
    "def downsample_sim_data(sim_data, max_loci):\n",
    "    sites = []\n",
    "    for tree in sim_data.trees():\n",
    "            for site in tree.sites():\n",
    "                #mutation = site.mutations[0] # assume just one\n",
    "                sites.append(site)\n",
    "    \n",
    "    if len(sites) > max_loci:\n",
    "        picks = sorted(np.random.choice(len(sites), replace = False, size = max_loci))\n",
    "        keep = [sites[i] for i in picks]\n",
    "        print len(keep)\n",
    "        return(sim_data.copy(keep))\n",
    "    else:\n",
    "        return(sim_data)"
   ]
  },
  {
   "cell_type": "code",
   "execution_count": null,
   "metadata": {
    "collapsed": true
   },
   "outputs": [],
   "source": [
    "# get the LD in the coalescent data"
   ]
  },
  {
   "cell_type": "code",
   "execution_count": null,
   "metadata": {
    "collapsed": true
   },
   "outputs": [],
   "source": [
    "def get_msprime_ld(sim_data):\n",
    "    ld_calc = msprime.LdCalculator(sim_data)\n",
    "    A = ld_calc.get_r2_matrix()\n",
    "    plt.imshow(A, interpolation=\"none\", vmin=0, vmax=1, cmap=\"Blues\")\n",
    "    plt.xticks([])\n",
    "    plt.yticks([])\n",
    "    plt.show()"
   ]
  },
  {
   "cell_type": "code",
   "execution_count": null,
   "metadata": {
    "collapsed": true
   },
   "outputs": [],
   "source": [
    "def get_genotypes(tree_sequence):\n",
    "    shape = tree_sequence.get_num_mutations(), tree_sequence.get_sample_size()\n",
    "    A = np.empty(shape, dtype=\"u1\")\n",
    "    count = 0\n",
    "    for variant in tree_sequence.variants():\n",
    "        A[variant.index] = variant.genotypes\n",
    "        count+=1\n",
    "    return(A)"
   ]
  },
  {
   "cell_type": "code",
   "execution_count": null,
   "metadata": {
    "collapsed": true
   },
   "outputs": [],
   "source": [
    "def get_diploid_genotypes(tree_sequence, pop_index = 0):\n",
    "    target_samples = tree_sequence.get_samples(pop_index)\n",
    "    assert len(target_samples) % 2 == 0\n",
    "    geno_array = get_genotypes(tree_sequence)\n",
    "    target_genotypes = geno_array[:,target_samples]\n",
    "    return (target_genotypes + np.roll(target_genotypes,-1, axis=1))[:,::2]"
   ]
  },
  {
   "cell_type": "code",
   "execution_count": null,
   "metadata": {
    "collapsed": true
   },
   "outputs": [],
   "source": [
    "def get_genotype_ld(sim_data):\n",
    "    first_r2_mat = allel.stats.ld.rogers_huff_r_between(get_diploid_genotypes(sim_data), get_diploid_genotypes(sim_data), fill=np.nan)\n",
    "    plt.imshow(first_r2_mat, interpolation=\"none\", vmin=0, vmax=1, cmap=\"Blues\")\n",
    "    plt.xticks([])\n",
    "    plt.yticks([])\n",
    "    plt.show()"
   ]
  },
  {
   "cell_type": "code",
   "execution_count": null,
   "metadata": {
    "collapsed": true
   },
   "outputs": [],
   "source": [
    "def get_chromosome_positions(sim_data, chromsome_length):\n",
    "    positions = np.array([pos for pos,node,idx in sim_data.mutations()])\n",
    "    chromosome_positions = np.mod(positions, chromsome_length) # modulo with the chromosome length\n",
    "    return (chromosome_positions)"
   ]
  },
  {
   "cell_type": "markdown",
   "metadata": {},
   "source": [
    "# get haplotypes is a mess, could be faster"
   ]
  },
  {
   "cell_type": "code",
   "execution_count": null,
   "metadata": {
    "collapsed": true
   },
   "outputs": [],
   "source": [
    "def get_haplotypes(sim_data):\n",
    "    haplotypes = list(sim_data.haplotypes())\n",
    "    haplotypes = [list(xx) for  xx in haplotypes]\n",
    "    haplotypes = np.array(haplotypes).astype(np.int) \n",
    "    haplotypes = [list(xx) for  xx in haplotypes]\n",
    "    return(haplotypes)"
   ]
  },
  {
   "cell_type": "code",
   "execution_count": null,
   "metadata": {
    "collapsed": true
   },
   "outputs": [],
   "source": [
    "def get_loci_per_chromosome(chromosome_positions):\n",
    "    breaks = list(np.where(np.diff(chromosome_positions)<0)[0])\n",
    "    breaks = [-1] + breaks + [len(chromosome_positions)-1]\n",
    "    loci_per_chromosome = [xx for xx in np.diff(breaks)]\n",
    "    return(loci_per_chromosome)"
   ]
  },
  {
   "cell_type": "markdown",
   "metadata": {},
   "source": [
    "# simuPOP"
   ]
  },
  {
   "cell_type": "markdown",
   "metadata": {},
   "source": [
    "# controlled  mating"
   ]
  },
  {
   "cell_type": "code",
   "execution_count": null,
   "metadata": {
    "collapsed": true
   },
   "outputs": [],
   "source": [
    "def parent_shuffle(par):\n",
    "    males = [x[0] for x in par]\n",
    "    females = [x[1] for x in par]\n",
    "    shuffle(males)\n",
    "    shuffle(females)\n",
    "    return(zip(males, females))\n",
    "\n",
    "def fixedChooser(pop):\n",
    "    popSize = pop.popSize()\n",
    "    #print('Entered fixedChooser')\n",
    "    #controlled_matting_log.info('Entered fixedChooser')\n",
    "    # identify males and females    \n",
    "    male_dict = dict()\n",
    "    female_dict = dict()\n",
    "    for indx, ind in enumerate(pop.individuals()):\n",
    "        if ind.sex() == simuPOP.MALE:\n",
    "            male_dict[indx] = ind\n",
    "        elif ind.sex() == simuPOP.FEMALE:\n",
    "            female_dict[indx] = ind  \n",
    "    #print(\"Populated dictionaries\")\n",
    "    #print('males_dict', male_dict.keys())\n",
    "    #print('females_dict', female_dict.keys())  \n",
    "    #print(\"parent males: {}, parent females: {}\".format(len(male_dict), len(female_dict) ))\n",
    "    file_parents = list()\n",
    "    pick_filename = \"/home/ryan/simNe/parent_pick/{}_{}.pick\".format(int(popSize), int(popSize))\n",
    "    #print(pick_filename)\n",
    "    #print(os.path.isfile(pick_filename))\n",
    "    # file represents the 0-popsize/2 males/females in each dict\n",
    "    with open(pick_filename) as INFILE:\n",
    "        for cnt, line in enumerate(INFILE):\n",
    "            parents_from_file = [int(xx) for xx in line.strip().split()]\n",
    "            #print (cnt)\n",
    "            file_parents.append(parents_from_file)\n",
    "\n",
    "    # randomize these parent pairs    \n",
    "    file_parents = parent_shuffle(file_parents)\n",
    "    \n",
    "    for cnt, file_parent_pair in enumerate(file_parents):\n",
    "        #print ('offspring: {}, file male: {}, file female: {}'.format(cnt, file_parent_pair[0], file_parent_pair[1] ))\n",
    "        pop_male = male_dict.keys()[file_parent_pair[0]]\n",
    "        pop_female = female_dict.keys()[file_parent_pair[1]]\n",
    "        #print('offspring: {}, pop male: {}, pop female: {}'.format(cnt, pop_male, pop_female))\n",
    "        if pop_male in male_dict and pop_female in female_dict: \n",
    "            #print ('Found!')\n",
    "            yield pop_male, pop_female\n",
    "        else:\n",
    "            #print('Not Found')\n",
    "            yield(None)"
   ]
  },
  {
   "cell_type": "markdown",
   "metadata": {},
   "source": [
    "# make the inital population"
   ]
  },
  {
   "cell_type": "code",
   "execution_count": null,
   "metadata": {
    "collapsed": true
   },
   "outputs": [],
   "source": [
    "def get_export_genotypes(pop, n_ind):\n",
    "    \"\"\"get a numpy array of genotypes to export.  \n",
    "    n_ind is the number of indiviudals to select at random\"\"\"\n",
    "    n_loci = len(pop.lociNames())\n",
    "    # will hold genotypes\n",
    "    genos = np.zeros((n_ind, n_loci))\n",
    "    picked = np.random.choice(a = pop.popSize(), size = n_ind, replace = False)\n",
    "    genos_idx = 0\n",
    "    for idx, ind in enumerate(pop.individuals()):\n",
    "        if idx in picked:\n",
    "            geno_c1 = np.array(ind.genotype(ploidy = 0))\n",
    "            geno_c2 = np.array(ind.genotype(ploidy = 1))\n",
    "            geno = geno_c1+geno_c2\n",
    "            genos[genos_idx] = geno\n",
    "            genos_idx +=1\n",
    "    return(genos)"
   ]
  },
  {
   "cell_type": "code",
   "execution_count": null,
   "metadata": {
    "collapsed": true
   },
   "outputs": [],
   "source": [
    "def do_forward_sims(\n",
    "        sim_data,\n",
    "        chrom_len, \n",
    "        diploid_Ne, \n",
    "        batchname,\n",
    "        repilcates, \n",
    "        simupop_seed):\n",
    "    print(\"start getting chromosomes positions\")\n",
    "    chromosome_positions = get_chromosome_positions(sim_data = sim_data, chromsome_length = chrom_len)\n",
    "    print(\"done getting chromosomes positions\")\n",
    "\n",
    "    haplotypes = get_haplotypes(sim_data)\n",
    "    loci_per_chromsome = get_loci_per_chromosome(chromosome_positions)\n",
    "    n_chrom = len(loci_per_chromsome)\n",
    "    # set up the ancestral pop in simuPOP\n",
    "    initial = simuPOP.Population(diploid_Ne, # here is the diploid number\n",
    "                            loci= loci_per_chromsome,  # should be the number of loci on each chromosome\n",
    "                            lociPos=list(chromosome_positions),\n",
    "                            ploidy = 2,\n",
    "                            infoFields=['father_idx', 'mother_idx', 'ind_id'],\n",
    "                            #alleleNames=['A', 'C', 'G', 'T'],\n",
    "                            lociNames = ['locus_{}'.format(x) for x in xrange(len(chromosome_positions))])\n",
    "    simuPOP.initGenotype(initial, prop=[1.0/len(haplotypes)]*len(haplotypes), haplotypes=list(haplotypes))\n",
    "    simuPOP.tagID(initial, reset = 1)\n",
    "    initial_export = get_export_genotypes(initial, initial.popSize())\n",
    "    np.savetxt('./share/{}/Ne-{}_Chr-{}/Ne-{}_Chr-{}.inital.txt'.format(batchname, diploid_Ne, n_chrom, diploid_Ne, n_chrom), initial_export,  delimiter = '\\t', fmt = '%01d')\n",
    "    \n",
    "    # map-ped\n",
    "    simuPOP.utils.export(initial, format='PED',output='./share/{}/Ne-{}_Chr-{}/Ne-{}_Chr-{}.inital.ped'.format(batchname, diploid_Ne, n_chrom, diploid_Ne, n_chrom), \n",
    "                         gui=False, idField = 'ind_id')\n",
    "    simuPOP.utils.export(initial, format='MAP',output='./share/{}/Ne-{}_Chr-{}/Ne-{}_Chr-{}.inital.map'.format(batchname, diploid_Ne, n_chrom, diploid_Ne, n_chrom), \n",
    "                         gui=False)\n",
    "    \n",
    "    # Doesn't yet work!!\n",
    "    # set the seed for simuPOP\n",
    "    #simuPOP.setRNG(seed=simupop_seed)\n",
    "    # and in Python\n",
    "    #random.seed(simupop_seed)\n",
    "    # and for numpy\n",
    "    #np.random.seed(simupop_seed)\n",
    "    \n",
    "    print (\"initalizing the forward simulator\")\n",
    "    simu = simuPOP.Simulator(simuPOP.Population(diploid_Ne, # here is the diploid number\n",
    "                            loci=get_loci_per_chromosome(chromosome_positions),  # should be the number of loci on each chromosome\n",
    "                            lociPos=list(chromosome_positions),\n",
    "                            ploidy = 2,\n",
    "                            infoFields=['ind_id', 'father_idx', 'mother_idx'],\n",
    "                            #alleleNames=['A', 'C', 'G', 'T'],\n",
    "                            lociNames = ['locus_{}'.format(x) for x in xrange(len(chromosome_positions))]\n",
    "                        ), \n",
    "                         rep=repilcates\n",
    "                        )\n",
    "    \n",
    "    print (\"Start evolving {} replicates\".format(repilcates))    \n",
    "    simu.evolve(\n",
    "        initOps=[\n",
    "            simuPOP.InitSex(sex = [simuPOP.MALE, simuPOP.FEMALE]), # alternate sex\n",
    "            simuPOP.InitGenotype(prop=[1.0/len(haplotypes)]*len(haplotypes), haplotypes=list(haplotypes))\n",
    "        ],\n",
    "        matingScheme=simuPOP.HomoMating(\n",
    "            chooser = simuPOP.PyParentsChooser(fixedChooser),\n",
    "            generator = simuPOP.OffspringGenerator(\n",
    "                sexMode=(simuPOP.GLOBAL_SEQUENCE_OF_SEX, simuPOP.MALE, simuPOP.FEMALE),\n",
    "            ops = [simuPOP.Recombinator(intensity = 1.0/chrom_len), \n",
    "                   simuPOP.ParentsTagger()\n",
    "            ]),\n",
    "        ),\n",
    "        postOps=[],\n",
    "        gen = 20\n",
    "    )\n",
    "    \n",
    "    print (\"Done evolving {} replicates!\".format(repilcates))\n",
    "    \n",
    "    \n",
    "    # export the data\n",
    "    print (\"Exporting data!\".format(repilcates))\n",
    "    for rep, pop in enumerate(simu.populations()):\n",
    "        if diploid_Ne >= 200:\n",
    "            pop_genotypes = get_export_genotypes(pop, n_ind = 200) #  select 200 inds\n",
    "        else:\n",
    "            pop_genotypes = get_export_genotypes(pop, n_ind = diploid_Ne) #  select 200 inds\n",
    "\n",
    "        np.savetxt('./share/{}/Ne-{}_Chr-{}/Ne-{}_Chr-{}_Frep-{}.geno'.format(batchname, diploid_Ne, n_chrom, diploid_Ne, n_chrom, rep).format(rep), \n",
    "                   pop_genotypes ,  delimiter = '\\t', fmt = '%01d')\n",
    "        if rep%10 == 0:\n",
    "            print \"saved rep {}\".format(rep)\n",
    "        \n",
    "        \n",
    "#        # subset the data\n",
    "#        current_pop = pop.clone()\n",
    "#        subset_pop = current_pop.extractIndividuals(indexes=sorted(list(np.random.choice(a = diploid_Ne, size = 200, replace = False)))) # make a 'new' pop from a subset of the individuals\n",
    "#        simuPOP.utils.export(subset_pop, format='csv', output='./share/{}/Ne-{}_Chr-{}/Ne-{}_Chr-{}_Frep-{}.geno'.format(batchname, diploid_Ne, n_chrom, diploid_Ne, n_chrom, rep), \n",
    "#                        gui=False, header  = False, delimiter = '\\t', \n",
    "#                        affectionFormatter = None, sexFormatter = None,\n",
    "#                        genoFormatter = {(0,0):0, (0,1):1, (1,0):1, (1,1):2})\n",
    "\n",
    "    "
   ]
  }
 ],
 "metadata": {
  "anaconda-cloud": {},
  "kernelspec": {
   "display_name": "Python 2",
   "language": "python",
   "name": "python2"
  },
  "language_info": {
   "codemirror_mode": {
    "name": "ipython",
    "version": 2
   },
   "file_extension": ".py",
   "mimetype": "text/x-python",
   "name": "python",
   "nbconvert_exporter": "python",
   "pygments_lexer": "ipython2",
   "version": "2.7.15"
  }
 },
 "nbformat": 4,
 "nbformat_minor": 1
}

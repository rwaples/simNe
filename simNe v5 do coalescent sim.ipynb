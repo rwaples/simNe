{
 "cells": [
  {
   "cell_type": "markdown",
   "metadata": {},
   "source": [
    "# TODO\n",
    "    - break out the fuctions into a separate file.\n",
    "    - incorporate seeds into the two simulation steps as well as the sampling steps.\n",
    "    - batch simulation steps \n",
    "    - figure out ancestral ne, and what scaling the mutation rate means in practice\n",
    "    - figure out how to simulate unlinked loci (just run msprime many, many times??)\n",
    "    - check the controlled mating is doing the expected\n",
    "    - batch the analysis\n"
   ]
  },
  {
   "cell_type": "code",
   "execution_count": 2,
   "metadata": {
    "collapsed": true
   },
   "outputs": [],
   "source": [
    "import numpy as np\n",
    "import pandas as pd\n",
    "import itertools\n",
    "import collections\n",
    "import glob\n",
    "import random\n",
    "from random import shuffle"
   ]
  },
  {
   "cell_type": "code",
   "execution_count": 3,
   "metadata": {
    "collapsed": true
   },
   "outputs": [],
   "source": [
    "import msprime"
   ]
  },
  {
   "cell_type": "code",
   "execution_count": 4,
   "metadata": {},
   "outputs": [
    {
     "data": {
      "text/html": [
       "<style>.container { width:90% !important; }</style>"
      ],
      "text/plain": [
       "<IPython.core.display.HTML object>"
      ]
     },
     "metadata": {},
     "output_type": "display_data"
    }
   ],
   "source": [
    "#from pylab import rcParams\n",
    "from IPython.core.display import display, HTML\n",
    "display(HTML(\"<style>.container { width:90% !important; }</style>\"))"
   ]
  },
  {
   "cell_type": "code",
   "execution_count": 13,
   "metadata": {
    "collapsed": true
   },
   "outputs": [],
   "source": [
    "def make_rec_map(n_chrom, len_chrom, recombination_rate, finite_sites):\n",
    "    n_chrom = int(n_chrom)\n",
    "    len_chrom = int(len_chrom)\n",
    "    A = [[x, x+1] for x in range(int(len_chrom), int(len_chrom)*(n_chrom+1), int(len_chrom))]\n",
    "    rm_pos = [0] + list(itertools.chain.from_iterable(A))\n",
    "    B = [recombination_rate, 0.5] * n_chrom\n",
    "    rec_rates = B + [0]\n",
    "    rec_map = msprime.RecombinationMap(rm_pos, rec_rates, num_loci = finite_sites )\n",
    "    return(rec_map)"
   ]
  },
  {
   "cell_type": "markdown",
   "metadata": {},
   "source": [
    "# Start"
   ]
  },
  {
   "cell_type": "code",
   "execution_count": 14,
   "metadata": {},
   "outputs": [
    {
     "name": "stdout",
     "output_type": "stream",
     "text": [
      "mkdir: cannot create directory ‘/home/ryan/simNe/share/feb18’: File exists\r\n"
     ]
    }
   ],
   "source": [
    "# coalescent simulation\n",
    "batchname = 'feb18'\n",
    "!mkdir {'/home/ryan/simNe/share/{}'.format(batchname)}\n",
    "\n",
    "chrom_len = 5e7\n",
    "mutation_rate = 1e-8\n",
    "recombination_rate = 1e-8\n",
    "Ne_ancestral = 2000\n",
    "Ne_switchdate = 100\n",
    "coalescent_seed = 1001\n",
    "forward_seed = 1001\n",
    "repilcates = 500"
   ]
  },
  {
   "cell_type": "code",
   "execution_count": 15,
   "metadata": {
    "collapsed": true
   },
   "outputs": [],
   "source": [
    "n_chroms = [4, 16, 64]\n",
    "diploid_Nes = [50, 200, 800, 3200]"
   ]
  },
  {
   "cell_type": "code",
   "execution_count": 16,
   "metadata": {},
   "outputs": [
    {
     "name": "stdout",
     "output_type": "stream",
     "text": [
      "working on n_chrom = 4, diploid_Ne = 50\n",
      "mkdir: cannot create directory ‘/home/ryan/simNe/share/feb18/Ne-50_Chr-4’: File exists\n",
      "working on n_chrom = 4, diploid_Ne = 200\n",
      "mkdir: cannot create directory ‘/home/ryan/simNe/share/feb18/Ne-200_Chr-4’: File exists\n",
      "working on n_chrom = 4, diploid_Ne = 800\n",
      "mkdir: cannot create directory ‘/home/ryan/simNe/share/feb18/Ne-800_Chr-4’: File exists\n",
      "working on n_chrom = 4, diploid_Ne = 3200\n",
      "mkdir: cannot create directory ‘/home/ryan/simNe/share/feb18/Ne-3200_Chr-4’: File exists\n",
      "working on n_chrom = 16, diploid_Ne = 50\n",
      "mkdir: cannot create directory ‘/home/ryan/simNe/share/feb18/Ne-50_Chr-16’: File exists\n",
      "working on n_chrom = 16, diploid_Ne = 200\n",
      "mkdir: cannot create directory ‘/home/ryan/simNe/share/feb18/Ne-200_Chr-16’: File exists\n",
      "working on n_chrom = 16, diploid_Ne = 800\n",
      "mkdir: cannot create directory ‘/home/ryan/simNe/share/feb18/Ne-800_Chr-16’: File exists\n",
      "working on n_chrom = 16, diploid_Ne = 3200\n",
      "mkdir: cannot create directory ‘/home/ryan/simNe/share/feb18/Ne-3200_Chr-16’: File exists\n",
      "working on n_chrom = 64, diploid_Ne = 50\n",
      "mkdir: cannot create directory ‘/home/ryan/simNe/share/feb18/Ne-50_Chr-64’: File exists\n",
      "working on n_chrom = 64, diploid_Ne = 200\n",
      "mkdir: cannot create directory ‘/home/ryan/simNe/share/feb18/Ne-200_Chr-64’: File exists\n",
      "working on n_chrom = 64, diploid_Ne = 800\n",
      "mkdir: cannot create directory ‘/home/ryan/simNe/share/feb18/Ne-800_Chr-64’: File exists\n",
      "working on n_chrom = 64, diploid_Ne = 3200\n",
      "mkdir: cannot create directory ‘/home/ryan/simNe/share/feb18/Ne-3200_Chr-64’: File exists\n"
     ]
    }
   ],
   "source": [
    "for n_chrom in n_chroms:\n",
    "    for diploid_Ne in diploid_Nes:\n",
    "        print('working on n_chrom = {}, diploid_Ne = {}'.format(n_chrom, diploid_Ne))\n",
    "        # make directories and write the params file\n",
    "        !mkdir {'/home/ryan/simNe/share/{}/Ne-{}_Chr-{}'.format(batchname, diploid_Ne, n_chrom)}\n",
    "        with open('/home/ryan/simNe/share/{}/Ne-{}_Chr-{}/params.txt'.format(batchname, diploid_Ne, n_chrom), 'w') as OUTFILE:\n",
    "            OUTFILE.write(\"n_chrom\\t{}\\n\".format(n_chrom))\n",
    "            OUTFILE.write(\"chrom_len\\t{}\\n\".format(chrom_len))\n",
    "            OUTFILE.write(\"diploid_Ne\\t{}\\n\".format(diploid_Ne))\n",
    "            OUTFILE.write(\"mutation_rate\\t{}\\n\".format(mutation_rate))\n",
    "            OUTFILE.write(\"batchname\\t{}\\n\".format(batchname))\n",
    "            OUTFILE.write(\"repilcates\\t{}\\n\".format(repilcates))\n",
    "            OUTFILE.write(\"Ne_ancestral\\t{}\\n\".format(Ne_ancestral))\n",
    "            OUTFILE.write(\"Ne_switchdate\\t{}\\n\".format(Ne_switchdate))\n",
    "            OUTFILE.write(\"coalescent_seed\\t{}\\n\".format(coalescent_seed))\n",
    "            OUTFILE.write(\"forward_seed\\t{}\\n\".format(forward_seed))"
   ]
  },
  {
   "cell_type": "code",
   "execution_count": 17,
   "metadata": {
    "collapsed": true
   },
   "outputs": [],
   "source": [
    "demographic_events = [\n",
    "        msprime.PopulationParametersChange(\n",
    "            time=Ne_switchdate, initial_size=Ne_ancestral)\n",
    "]"
   ]
  },
  {
   "cell_type": "code",
   "execution_count": 18,
   "metadata": {},
   "outputs": [
    {
     "ename": "KeyboardInterrupt",
     "evalue": "",
     "output_type": "error",
     "traceback": [
      "\u001b[0;31m\u001b[0m",
      "\u001b[0;31mKeyboardInterrupt\u001b[0mTraceback (most recent call last)",
      "\u001b[0;32m<ipython-input-18-a60a26249a11>\u001b[0m in \u001b[0;36m<module>\u001b[0;34m()\u001b[0m\n\u001b[1;32m     12\u001b[0m                     \u001b[0;31m#population_configurations = None,\u001b[0m\u001b[0;34m\u001b[0m\u001b[0;34m\u001b[0m\u001b[0m\n\u001b[1;32m     13\u001b[0m                     \u001b[0msample_size\u001b[0m \u001b[0;34m=\u001b[0m \u001b[0mdiploid_Ne\u001b[0m\u001b[0;34m*\u001b[0m\u001b[0;36m2\u001b[0m\u001b[0;34m,\u001b[0m\u001b[0;34m\u001b[0m\u001b[0m\n\u001b[0;32m---> 14\u001b[0;31m                     \u001b[0mdemographic_events\u001b[0m \u001b[0;34m=\u001b[0m \u001b[0mdemographic_events\u001b[0m\u001b[0;34m,\u001b[0m\u001b[0;34m\u001b[0m\u001b[0m\n\u001b[0m\u001b[1;32m     15\u001b[0m                     )\n\u001b[1;32m     16\u001b[0m         \u001b[0msim_data\u001b[0m\u001b[0;34m.\u001b[0m\u001b[0mdump\u001b[0m\u001b[0;34m(\u001b[0m\u001b[0;34m'/home/ryan/simNe/share/{}/Ne-{}_Chr-{}/coalescent.hdf5'\u001b[0m\u001b[0;34m.\u001b[0m\u001b[0mformat\u001b[0m\u001b[0;34m(\u001b[0m\u001b[0mbatchname\u001b[0m\u001b[0;34m,\u001b[0m \u001b[0mdiploid_Ne\u001b[0m\u001b[0;34m,\u001b[0m \u001b[0mn_chrom\u001b[0m\u001b[0;34m)\u001b[0m\u001b[0;34m,\u001b[0m \u001b[0mzlib_compression\u001b[0m\u001b[0;34m=\u001b[0m\u001b[0mFalse\u001b[0m\u001b[0;34m)\u001b[0m\u001b[0;34m\u001b[0m\u001b[0m\n",
      "\u001b[0;32m/home/ryan/anaconda2/lib/python2.7/site-packages/msprime/simulations.pyc\u001b[0m in \u001b[0;36msimulate\u001b[0;34m(sample_size, Ne, length, recombination_rate, recombination_map, mutation_rate, population_configurations, migration_matrix, demographic_events, samples, model, record_migrations, random_seed, mutation_generator, num_replicates)\u001b[0m\n\u001b[1;32m    313\u001b[0m                 \"Cannot specify both mutation_rate and mutation_generator\")\n\u001b[1;32m    314\u001b[0m     \u001b[0;32mif\u001b[0m \u001b[0mnum_replicates\u001b[0m \u001b[0;32mis\u001b[0m \u001b[0mNone\u001b[0m\u001b[0;34m:\u001b[0m\u001b[0;34m\u001b[0m\u001b[0m\n\u001b[0;32m--> 315\u001b[0;31m         \u001b[0;32mreturn\u001b[0m \u001b[0mnext\u001b[0m\u001b[0;34m(\u001b[0m\u001b[0m_replicate_generator\u001b[0m\u001b[0;34m(\u001b[0m\u001b[0msim\u001b[0m\u001b[0;34m,\u001b[0m \u001b[0mmutation_generator\u001b[0m\u001b[0;34m,\u001b[0m \u001b[0;36m1\u001b[0m\u001b[0;34m,\u001b[0m \u001b[0mprovenance\u001b[0m\u001b[0;34m)\u001b[0m\u001b[0;34m)\u001b[0m\u001b[0;34m\u001b[0m\u001b[0m\n\u001b[0m\u001b[1;32m    316\u001b[0m     \u001b[0;32melse\u001b[0m\u001b[0;34m:\u001b[0m\u001b[0;34m\u001b[0m\u001b[0m\n\u001b[1;32m    317\u001b[0m         \u001b[0;32mreturn\u001b[0m \u001b[0m_replicate_generator\u001b[0m\u001b[0;34m(\u001b[0m\u001b[0msim\u001b[0m\u001b[0;34m,\u001b[0m \u001b[0mmutation_generator\u001b[0m\u001b[0;34m,\u001b[0m \u001b[0mnum_replicates\u001b[0m\u001b[0;34m,\u001b[0m \u001b[0mprovenance\u001b[0m\u001b[0;34m)\u001b[0m\u001b[0;34m\u001b[0m\u001b[0m\n",
      "\u001b[0;32m/home/ryan/anaconda2/lib/python2.7/site-packages/msprime/simulations.pyc\u001b[0m in \u001b[0;36m_replicate_generator\u001b[0;34m(sim, mutation_generator, num_replicates, provenance_dict)\u001b[0m\n\u001b[1;32m    109\u001b[0m     \u001b[0;32mwhile\u001b[0m \u001b[0mj\u001b[0m \u001b[0;34m<\u001b[0m \u001b[0mnum_replicates\u001b[0m\u001b[0;34m:\u001b[0m\u001b[0;34m\u001b[0m\u001b[0m\n\u001b[1;32m    110\u001b[0m         \u001b[0mj\u001b[0m \u001b[0;34m+=\u001b[0m \u001b[0;36m1\u001b[0m\u001b[0;34m\u001b[0m\u001b[0m\n\u001b[0;32m--> 111\u001b[0;31m         \u001b[0msim\u001b[0m\u001b[0;34m.\u001b[0m\u001b[0mrun\u001b[0m\u001b[0;34m(\u001b[0m\u001b[0;34m)\u001b[0m\u001b[0;34m\u001b[0m\u001b[0m\n\u001b[0m\u001b[1;32m    112\u001b[0m         \u001b[0mtree_sequence\u001b[0m \u001b[0;34m=\u001b[0m \u001b[0msim\u001b[0m\u001b[0;34m.\u001b[0m\u001b[0mget_tree_sequence\u001b[0m\u001b[0;34m(\u001b[0m\u001b[0mmutation_generator\u001b[0m\u001b[0;34m,\u001b[0m \u001b[0mprovenance\u001b[0m\u001b[0;34m)\u001b[0m\u001b[0;34m\u001b[0m\u001b[0m\n\u001b[1;32m    113\u001b[0m         \u001b[0;32myield\u001b[0m \u001b[0mtree_sequence\u001b[0m\u001b[0;34m\u001b[0m\u001b[0m\n",
      "\u001b[0;32m/home/ryan/anaconda2/lib/python2.7/site-packages/msprime/simulations.pyc\u001b[0m in \u001b[0;36mrun\u001b[0;34m(self)\u001b[0m\n\u001b[1;32m    563\u001b[0m         \u001b[0;32mif\u001b[0m \u001b[0mself\u001b[0m\u001b[0;34m.\u001b[0m\u001b[0mll_sim\u001b[0m \u001b[0;32mis\u001b[0m \u001b[0mNone\u001b[0m\u001b[0;34m:\u001b[0m\u001b[0;34m\u001b[0m\u001b[0m\n\u001b[1;32m    564\u001b[0m             \u001b[0mself\u001b[0m\u001b[0;34m.\u001b[0m\u001b[0mll_sim\u001b[0m \u001b[0;34m=\u001b[0m \u001b[0mself\u001b[0m\u001b[0;34m.\u001b[0m\u001b[0mcreate_ll_instance\u001b[0m\u001b[0;34m(\u001b[0m\u001b[0;34m)\u001b[0m\u001b[0;34m\u001b[0m\u001b[0m\n\u001b[0;32m--> 565\u001b[0;31m         \u001b[0mself\u001b[0m\u001b[0;34m.\u001b[0m\u001b[0mll_sim\u001b[0m\u001b[0;34m.\u001b[0m\u001b[0mrun\u001b[0m\u001b[0;34m(\u001b[0m\u001b[0;34m)\u001b[0m\u001b[0;34m\u001b[0m\u001b[0m\n\u001b[0m\u001b[1;32m    566\u001b[0m \u001b[0;34m\u001b[0m\u001b[0m\n\u001b[1;32m    567\u001b[0m     \u001b[0;32mdef\u001b[0m \u001b[0mget_tree_sequence\u001b[0m\u001b[0;34m(\u001b[0m\u001b[0mself\u001b[0m\u001b[0;34m,\u001b[0m \u001b[0mmutation_generator\u001b[0m\u001b[0;34m=\u001b[0m\u001b[0mNone\u001b[0m\u001b[0;34m,\u001b[0m \u001b[0mprovenance_strings\u001b[0m\u001b[0;34m=\u001b[0m\u001b[0;34m[\u001b[0m\u001b[0;34m]\u001b[0m\u001b[0;34m)\u001b[0m\u001b[0;34m:\u001b[0m\u001b[0;34m\u001b[0m\u001b[0m\n",
      "\u001b[0;31mKeyboardInterrupt\u001b[0m: "
     ]
    }
   ],
   "source": [
    "for n_chrom in n_chroms:\n",
    "    for diploid_Ne in diploid_Nes:\n",
    "        finite_sites = int(n_chrom * chrom_len + n_chrom - 1)//10\n",
    "        rm = make_rec_map(n_chrom, chrom_len, recombination_rate, finite_sites = finite_sites )\n",
    "        sim_data = msprime.simulate(\n",
    "                    Ne = diploid_Ne*2,\n",
    "                    mutation_rate=mutation_rate,\n",
    "                    recombination_map = rm,\n",
    "                    #recombination_map = None,\n",
    "                    #recombination_rate = 1e-8,\n",
    "                    #length = 160,\n",
    "                    #population_configurations = None,\n",
    "                    sample_size = diploid_Ne*2,\n",
    "                    demographic_events = demographic_events,\n",
    "                    )\n",
    "        sim_data.dump('/home/ryan/simNe/share/{}/Ne-{}_Chr-{}/coalescent.hdf5'.format(batchname, diploid_Ne, n_chrom), zlib_compression=False)"
   ]
  },
  {
   "cell_type": "code",
   "execution_count": null,
   "metadata": {
    "collapsed": true
   },
   "outputs": [],
   "source": [
    "# rerun with fewer sites"
   ]
  },
  {
   "cell_type": "code",
   "execution_count": null,
   "metadata": {
    "collapsed": true
   },
   "outputs": [],
   "source": [
    "n_chroms = [64]\n",
    "for n_chrom in n_chroms:\n",
    "    for diploid_Ne in diploid_Nes:\n",
    "        finite_sites = int(n_chrom * chrom_len + n_chrom - 1)//100\n",
    "        rm = make_rec_map(n_chrom, chrom_len, recombination_rate, finite_sites = finite_sites )\n",
    "        sim_data = msprime.simulate(\n",
    "                    Ne = diploid_Ne*2,\n",
    "                    mutation_rate=mutation_rate,\n",
    "                    recombination_map = rm,\n",
    "                    #recombination_map = None,\n",
    "                    #recombination_rate = 1e-8,\n",
    "                    #length = 160,\n",
    "                    #population_configurations = None,\n",
    "                    sample_size = diploid_Ne*2,\n",
    "                    demographic_events = demographic_events,\n",
    "                    )\n",
    "        sim_data.dump('/home/ryan/simNe/share/{}/Ne-{}_Chr-{}/coalescent.hdf5'.format(batchname, diploid_Ne, n_chrom), zlib_compression=False)"
   ]
  },
  {
   "cell_type": "code",
   "execution_count": null,
   "metadata": {
    "collapsed": true
   },
   "outputs": [],
   "source": [
    "assert False"
   ]
  },
  {
   "cell_type": "code",
   "execution_count": null,
   "metadata": {
    "collapsed": true
   },
   "outputs": [],
   "source": []
  },
  {
   "cell_type": "code",
   "execution_count": null,
   "metadata": {
    "collapsed": true
   },
   "outputs": [],
   "source": [
    "for n_chrom in n_chroms:\n",
    "    for diploid_Ne in diploid_Nes:\n",
    "        sim_data = simNe_sim.sim_chrom(\n",
    "            n_chrom = n_chrom,\n",
    "            chrom_len = int(chrom_len),\n",
    "            recombination_rate = 1.0/chrom_len,\n",
    "            mutation_rate = mutation_rate, # could be scaled by a multiplier to simply get fewer loci\n",
    "            sample_size = diploid_Ne*2, # haploid\n",
    "            Ne_ancestral = Ne_ancestral,\n",
    "            Ne_recent = diploid_Ne*2,\n",
    "            Ne_switchdate = 100, # fixed switch \n",
    "            # random_seed = coalescent_seed,\n",
    "            print_history = False)\n",
    "        sim_data.dump('/home/ryan/simNe/share/{}/Ne-{}_Chr-{}/coalescent.hdf5'.format(batchname, diploid_Ne, n_chrom), zlib_compression=False)"
   ]
  },
  {
   "cell_type": "code",
   "execution_count": null,
   "metadata": {
    "collapsed": true
   },
   "outputs": [],
   "source": []
  },
  {
   "cell_type": "code",
   "execution_count": null,
   "metadata": {
    "collapsed": true
   },
   "outputs": [],
   "source": [
    "\n",
    "        # do coalescent simulation \n",
    "        sim_data = simNe_sim.sim_chrom(\n",
    "            n_chrom = n_chrom,\n",
    "            chrom_len = int(chrom_len),\n",
    "            recombination_rate = 1.0/chrom_len,\n",
    "            mutation_rate = mutation_rate, # could be scaled by a multiplier to simply get fewer loci\n",
    "            sample_size = diploid_Ne*2, # haploid\n",
    "            Ne_ancestral = Ne_ancestral,\n",
    "            Ne_recent = diploid_Ne*2,\n",
    "            Ne_switchdate = 100, # fixed switch \n",
    "            # random_seed = coalescent_seed,\n",
    "            print_history = False)\n",
    "        \n",
    "        # record the coalescent simualtion\n",
    "        sim_data.dump('/home/ryan/simNe/share/{}/Ne-{}_Chr-{}/coalescent.hdf5'.format(batchname, diploid_Ne, n_chrom), zlib_compression=False)"
   ]
  },
  {
   "cell_type": "code",
   "execution_count": null,
   "metadata": {
    "collapsed": true
   },
   "outputs": [],
   "source": [
    "sim_data = simNe_sim.sim_chrom(\n",
    "            n_chrom = 4,\n",
    "            chrom_len = chrom_len,\n",
    "            recombination_rate = mutation_rate,\n",
    "            mutation_rate = mutation_rate, # could be scaled by a multiplier to simply get fewer loci\n",
    "            sample_size = diploid_Ne*2, # haploid\n",
    "            Ne_ancestral = Ne_ancestral,\n",
    "            Ne_recent = diploid_Ne*2,\n",
    "            Ne_switchdate = 100, # fixed switch \n",
    "            #random_seed = coalescent_seed,\n",
    "            print_history = False)"
   ]
  },
  {
   "cell_type": "code",
   "execution_count": null,
   "metadata": {
    "collapsed": true
   },
   "outputs": [],
   "source": []
  }
 ],
 "metadata": {
  "anaconda-cloud": {},
  "kernelspec": {
   "display_name": "Python 2",
   "language": "python",
   "name": "python2"
  },
  "language_info": {
   "codemirror_mode": {
    "name": "ipython",
    "version": 2
   },
   "file_extension": ".py",
   "mimetype": "text/x-python",
   "name": "python",
   "nbconvert_exporter": "python",
   "pygments_lexer": "ipython2",
   "version": "2.7.15"
  }
 },
 "nbformat": 4,
 "nbformat_minor": 1
}

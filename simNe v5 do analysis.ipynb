{
 "cells": [
  {
   "cell_type": "markdown",
   "metadata": {},
   "source": [
    "# TODO\n",
    "    - break out the fuctions into a separate file.\n",
    "    - incorporate seeds into the two simulation steps as well as the sampling steps.\n",
    "    - batch simulation steps \n",
    "    - figure out ancestral ne, and what scaling the mutation rate means in practice\n",
    "    - figure out how to simulate unlinked loci (just run msprime many, many times??)\n",
    "    - check the controlled mating is doing the expected\n",
    "    - batch the analysis\n"
   ]
  },
  {
   "cell_type": "code",
   "execution_count": 1,
   "metadata": {},
   "outputs": [
    {
     "data": {
      "text/html": [
       "<style>.container { width:90% !important; }</style>"
      ],
      "text/plain": [
       "<IPython.core.display.HTML object>"
      ]
     },
     "metadata": {},
     "output_type": "display_data"
    }
   ],
   "source": [
    "import numpy as np\n",
    "import pandas as pd\n",
    "import itertools\n",
    "#import scipy.spatial.distance\n",
    "#import matplotlib.pyplot as plt\n",
    "#import seaborn as sns\n",
    "import os\n",
    "import collections\n",
    "import glob\n",
    "import random\n",
    "from random import shuffle\n",
    "import scipy as sp\n",
    "\n",
    "#import msprime\n",
    "#import allel\n",
    "\n",
    "#import simuPOP\n",
    "#import simuPOP.utils\n",
    "\n",
    "from pylab import rcParams\n",
    "from IPython.core.display import display, HTML\n",
    "display(HTML(\"<style>.container { width:90% !important; }</style>\"))\n",
    "%matplotlib inline\n",
    "#sns.set_style('white')"
   ]
  },
  {
   "cell_type": "code",
   "execution_count": 2,
   "metadata": {},
   "outputs": [],
   "source": [
    "#!jupyter nbconvert --to script simNe_functions_simulate.ipynb\n",
    "#import simNe_functions_simulate as simNe_sim"
   ]
  },
  {
   "cell_type": "code",
   "execution_count": 3,
   "metadata": {
    "scrolled": true
   },
   "outputs": [
    {
     "name": "stdout",
     "output_type": "stream",
     "text": [
      "[NbConvertApp] Converting notebook simNe_functions_analyze.ipynb to script\n",
      "[NbConvertApp] Writing 17587 bytes to simNe_functions_analyze.py\n",
      "simuPOP Version 1.1.7.1 : Copyright (c) 2004-2016 Bo Peng\n",
      "Revision 5003 (Oct 17 2017) for Python 2.7.13 (64bit, 1thread)\n",
      "Random Number Generator is set to mt19937 with random seed 0xd24b7681b70cf473.\n",
      "This is the standard short allele version with 256 maximum allelic states.\n",
      "For more information, please visit http://simupop.sourceforge.net,\n",
      "or email simupop-list@lists.sourceforge.net (subscription required).\n"
     ]
    },
    {
     "data": {
      "text/html": [
       "<style>.container { width:90% !important; }</style>"
      ],
      "text/plain": [
       "<IPython.core.display.HTML object>"
      ]
     },
     "metadata": {},
     "output_type": "display_data"
    }
   ],
   "source": [
    "!jupyter nbconvert --to script simNe_functions_analyze.ipynb\n",
    "import simNe_functions_analyze as simNe_anal"
   ]
  },
  {
   "cell_type": "markdown",
   "metadata": {},
   "source": [
    "# Start"
   ]
  },
  {
   "cell_type": "code",
   "execution_count": 4,
   "metadata": {},
   "outputs": [],
   "source": [
    "batchname = 'oct17a'\n",
    "batchname = 'unlinked'"
   ]
  },
  {
   "cell_type": "markdown",
   "metadata": {},
   "source": [
    "# Generate results.txt "
   ]
  },
  {
   "cell_type": "code",
   "execution_count": 5,
   "metadata": {},
   "outputs": [
    {
     "data": {
      "text/plain": [
       "['./share/unlinked/Ne-50_Chr-99',\n",
       " './share/unlinked/Ne-200_Chr-99',\n",
       " './share/unlinked/Ne-800_Chr-99',\n",
       " './share/unlinked/Ne-3200_Chr-99']"
      ]
     },
     "execution_count": 5,
     "metadata": {},
     "output_type": "execute_result"
    }
   ],
   "source": [
    "glob.glob('./share/{}/*'.format(batchname))"
   ]
  },
  {
   "cell_type": "code",
   "execution_count": 6,
   "metadata": {},
   "outputs": [
    {
     "data": {
      "text/plain": [
       "['./share/unlinked/Ne-50_Chr-99',\n",
       " './share/unlinked/Ne-200_Chr-99',\n",
       " './share/unlinked/Ne-800_Chr-99',\n",
       " './share/unlinked/Ne-3200_Chr-99']"
      ]
     },
     "execution_count": 6,
     "metadata": {},
     "output_type": "execute_result"
    }
   ],
   "source": [
    "targets = glob.glob('./share/{}/*'.format(batchname))\n",
    "targets"
   ]
  },
  {
   "cell_type": "code",
   "execution_count": null,
   "metadata": {
    "scrolled": false
   },
   "outputs": [
    {
     "name": "stdout",
     "output_type": "stream",
     "text": [
      "found 500 *.geno files\n"
     ]
    },
    {
     "name": "stderr",
     "output_type": "stream",
     "text": [
      "simNe_functions_analyze.py:62: RuntimeWarning: Mean of empty slice.\n",
      "  return(ld_mat[np.triu_indices_from(ld_mat, k=1)].mean())\n",
      "/home/ryan/anaconda2/lib/python2.7/site-packages/numpy/core/_methods.py:80: RuntimeWarning: invalid value encountered in double_scalars\n",
      "  ret = ret.dtype.type(ret / rcount)\n"
     ]
    },
    {
     "name": "stdout",
     "output_type": "stream",
     "text": [
      "working on file: ./share/unlinked/Ne-50_Chr-99/Ne-50_Chr-99_Frep-19.geno\n",
      "working on file: ./share/unlinked/Ne-50_Chr-99/Ne-50_Chr-99_Frep-39.geno\n",
      "working on file: ./share/unlinked/Ne-50_Chr-99/Ne-50_Chr-99_Frep-59.geno\n",
      "working on file: ./share/unlinked/Ne-50_Chr-99/Ne-50_Chr-99_Frep-79.geno\n",
      "working on file: ./share/unlinked/Ne-50_Chr-99/Ne-50_Chr-99_Frep-99.geno\n",
      "working on file: ./share/unlinked/Ne-50_Chr-99/Ne-50_Chr-99_Frep-119.geno\n",
      "working on file: ./share/unlinked/Ne-50_Chr-99/Ne-50_Chr-99_Frep-139.geno\n",
      "working on file: ./share/unlinked/Ne-50_Chr-99/Ne-50_Chr-99_Frep-159.geno\n",
      "working on file: ./share/unlinked/Ne-50_Chr-99/Ne-50_Chr-99_Frep-179.geno\n",
      "working on file: ./share/unlinked/Ne-50_Chr-99/Ne-50_Chr-99_Frep-199.geno\n",
      "working on file: ./share/unlinked/Ne-50_Chr-99/Ne-50_Chr-99_Frep-219.geno\n",
      "working on file: ./share/unlinked/Ne-50_Chr-99/Ne-50_Chr-99_Frep-239.geno\n",
      "working on file: ./share/unlinked/Ne-50_Chr-99/Ne-50_Chr-99_Frep-259.geno\n",
      "working on file: ./share/unlinked/Ne-50_Chr-99/Ne-50_Chr-99_Frep-279.geno\n",
      "working on file: ./share/unlinked/Ne-50_Chr-99/Ne-50_Chr-99_Frep-299.geno\n",
      "working on file: ./share/unlinked/Ne-50_Chr-99/Ne-50_Chr-99_Frep-319.geno\n",
      "working on file: ./share/unlinked/Ne-50_Chr-99/Ne-50_Chr-99_Frep-339.geno\n",
      "working on file: ./share/unlinked/Ne-50_Chr-99/Ne-50_Chr-99_Frep-359.geno\n",
      "working on file: ./share/unlinked/Ne-50_Chr-99/Ne-50_Chr-99_Frep-379.geno\n",
      "working on file: ./share/unlinked/Ne-50_Chr-99/Ne-50_Chr-99_Frep-399.geno\n",
      "working on file: ./share/unlinked/Ne-50_Chr-99/Ne-50_Chr-99_Frep-419.geno\n",
      "working on file: ./share/unlinked/Ne-50_Chr-99/Ne-50_Chr-99_Frep-439.geno\n",
      "working on file: ./share/unlinked/Ne-50_Chr-99/Ne-50_Chr-99_Frep-459.geno\n",
      "working on file: ./share/unlinked/Ne-50_Chr-99/Ne-50_Chr-99_Frep-479.geno\n",
      "working on file: ./share/unlinked/Ne-50_Chr-99/Ne-50_Chr-99_Frep-499.geno\n",
      "found 500 *.geno files\n",
      "working on file: ./share/unlinked/Ne-200_Chr-99/Ne-200_Chr-99_Frep-19.geno\n",
      "working on file: ./share/unlinked/Ne-200_Chr-99/Ne-200_Chr-99_Frep-39.geno\n",
      "working on file: ./share/unlinked/Ne-200_Chr-99/Ne-200_Chr-99_Frep-59.geno\n",
      "working on file: ./share/unlinked/Ne-200_Chr-99/Ne-200_Chr-99_Frep-79.geno\n",
      "working on file: ./share/unlinked/Ne-200_Chr-99/Ne-200_Chr-99_Frep-99.geno\n",
      "working on file: ./share/unlinked/Ne-200_Chr-99/Ne-200_Chr-99_Frep-119.geno\n",
      "working on file: ./share/unlinked/Ne-200_Chr-99/Ne-200_Chr-99_Frep-139.geno\n",
      "working on file: ./share/unlinked/Ne-200_Chr-99/Ne-200_Chr-99_Frep-159.geno\n",
      "working on file: ./share/unlinked/Ne-200_Chr-99/Ne-200_Chr-99_Frep-179.geno\n",
      "working on file: ./share/unlinked/Ne-200_Chr-99/Ne-200_Chr-99_Frep-199.geno\n",
      "working on file: ./share/unlinked/Ne-200_Chr-99/Ne-200_Chr-99_Frep-219.geno\n",
      "working on file: ./share/unlinked/Ne-200_Chr-99/Ne-200_Chr-99_Frep-239.geno\n",
      "working on file: ./share/unlinked/Ne-200_Chr-99/Ne-200_Chr-99_Frep-259.geno\n",
      "working on file: ./share/unlinked/Ne-200_Chr-99/Ne-200_Chr-99_Frep-279.geno\n",
      "working on file: ./share/unlinked/Ne-200_Chr-99/Ne-200_Chr-99_Frep-299.geno\n",
      "working on file: ./share/unlinked/Ne-200_Chr-99/Ne-200_Chr-99_Frep-319.geno\n",
      "working on file: ./share/unlinked/Ne-200_Chr-99/Ne-200_Chr-99_Frep-339.geno\n",
      "working on file: ./share/unlinked/Ne-200_Chr-99/Ne-200_Chr-99_Frep-359.geno\n",
      "working on file: ./share/unlinked/Ne-200_Chr-99/Ne-200_Chr-99_Frep-379.geno\n",
      "working on file: ./share/unlinked/Ne-200_Chr-99/Ne-200_Chr-99_Frep-399.geno\n",
      "working on file: ./share/unlinked/Ne-200_Chr-99/Ne-200_Chr-99_Frep-419.geno\n",
      "working on file: ./share/unlinked/Ne-200_Chr-99/Ne-200_Chr-99_Frep-439.geno\n",
      "working on file: ./share/unlinked/Ne-200_Chr-99/Ne-200_Chr-99_Frep-459.geno\n",
      "working on file: ./share/unlinked/Ne-200_Chr-99/Ne-200_Chr-99_Frep-479.geno\n",
      "working on file: ./share/unlinked/Ne-200_Chr-99/Ne-200_Chr-99_Frep-499.geno\n",
      "found 500 *.geno files\n",
      "working on file: ./share/unlinked/Ne-800_Chr-99/Ne-800_Chr-99_Frep-19.geno\n",
      "working on file: ./share/unlinked/Ne-800_Chr-99/Ne-800_Chr-99_Frep-39.geno\n",
      "working on file: ./share/unlinked/Ne-800_Chr-99/Ne-800_Chr-99_Frep-59.geno\n",
      "working on file: ./share/unlinked/Ne-800_Chr-99/Ne-800_Chr-99_Frep-79.geno\n",
      "working on file: ./share/unlinked/Ne-800_Chr-99/Ne-800_Chr-99_Frep-99.geno\n",
      "working on file: ./share/unlinked/Ne-800_Chr-99/Ne-800_Chr-99_Frep-119.geno\n",
      "working on file: ./share/unlinked/Ne-800_Chr-99/Ne-800_Chr-99_Frep-139.geno\n",
      "working on file: ./share/unlinked/Ne-800_Chr-99/Ne-800_Chr-99_Frep-159.geno\n",
      "working on file: ./share/unlinked/Ne-800_Chr-99/Ne-800_Chr-99_Frep-179.geno\n",
      "working on file: ./share/unlinked/Ne-800_Chr-99/Ne-800_Chr-99_Frep-199.geno\n",
      "working on file: ./share/unlinked/Ne-800_Chr-99/Ne-800_Chr-99_Frep-219.geno\n",
      "working on file: ./share/unlinked/Ne-800_Chr-99/Ne-800_Chr-99_Frep-239.geno\n",
      "working on file: ./share/unlinked/Ne-800_Chr-99/Ne-800_Chr-99_Frep-259.geno\n",
      "working on file: ./share/unlinked/Ne-800_Chr-99/Ne-800_Chr-99_Frep-279.geno\n",
      "working on file: ./share/unlinked/Ne-800_Chr-99/Ne-800_Chr-99_Frep-299.geno\n",
      "working on file: ./share/unlinked/Ne-800_Chr-99/Ne-800_Chr-99_Frep-319.geno\n",
      "working on file: ./share/unlinked/Ne-800_Chr-99/Ne-800_Chr-99_Frep-339.geno\n",
      "working on file: ./share/unlinked/Ne-800_Chr-99/Ne-800_Chr-99_Frep-359.geno\n"
     ]
    }
   ],
   "source": [
    "for target_dir in targets:\n",
    "    #exclude ne = 50 for now\n",
    "    #if \"Ne-50_\" not in target_dir:\n",
    "        res_file = os.path.join(target_dir,'results.txt')\n",
    "        #if os.path.isfile(res_file):\n",
    "        #    pass\n",
    "        #else:\n",
    "        simNe_anal.do_analysis(target_dir=target_dir, \n",
    "                                   min_AC = 2, \n",
    "                                   L = [16, 64, 256, 1024, 4096, 4096*4], \n",
    "                                   #L = [16, 64, 256, 1024],\n",
    "                                   S = [25, 50, 100])"
   ]
  },
  {
   "cell_type": "code",
   "execution_count": 21,
   "metadata": {},
   "outputs": [
    {
     "data": {
      "text/plain": [
       "'./share/oct17b/Ne-50_Chr-4'"
      ]
     },
     "execution_count": 21,
     "metadata": {},
     "output_type": "execute_result"
    }
   ],
   "source": [
    "target_dir"
   ]
  },
  {
   "cell_type": "code",
   "execution_count": null,
   "metadata": {
    "collapsed": true
   },
   "outputs": [],
   "source": [
    "# Gather results\n",
    "#target_dir='./share/{}/Ne-{}_Chr-{}'.format(batchname, diploid_Ne, n_chrom)"
   ]
  },
  {
   "cell_type": "code",
   "execution_count": null,
   "metadata": {
    "collapsed": true
   },
   "outputs": [],
   "source": []
  },
  {
   "cell_type": "code",
   "execution_count": null,
   "metadata": {
    "collapsed": true
   },
   "outputs": [],
   "source": []
  }
 ],
 "metadata": {
  "anaconda-cloud": {},
  "kernelspec": {
   "display_name": "Python 2",
   "language": "python",
   "name": "python2"
  },
  "language_info": {
   "codemirror_mode": {
    "name": "ipython",
    "version": 2
   },
   "file_extension": ".py",
   "mimetype": "text/x-python",
   "name": "python",
   "nbconvert_exporter": "python",
   "pygments_lexer": "ipython2",
   "version": "2.7.15"
  }
 },
 "nbformat": 4,
 "nbformat_minor": 1
}
